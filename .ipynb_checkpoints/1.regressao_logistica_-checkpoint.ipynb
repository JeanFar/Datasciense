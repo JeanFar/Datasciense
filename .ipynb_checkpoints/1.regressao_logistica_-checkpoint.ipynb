{
 "cells": [
  {
   "cell_type": "code",
   "execution_count": null,
   "metadata": {},
   "outputs": [],
   "source": [
    "# Formação Cientista de Dados - Fernando Amaral e Jones Granatyr\n",
    "# Regressão Logística"
   ]
  },
  {
   "cell_type": "code",
   "execution_count": 4,
   "metadata": {},
   "outputs": [],
   "source": [
    "# Importação das bibliotecas\n",
    "import pandas as pd\n",
    "import matplotlib.pyplot as plt\n",
    "import numpy as np\n",
    "from sklearn.linear_model import LogisticRegression"
   ]
  },
  {
   "cell_type": "code",
   "execution_count": 5,
   "metadata": {},
   "outputs": [
    {
     "data": {
      "text/html": [
       "<div>\n",
       "<style scoped>\n",
       "    .dataframe tbody tr th:only-of-type {\n",
       "        vertical-align: middle;\n",
       "    }\n",
       "\n",
       "    .dataframe tbody tr th {\n",
       "        vertical-align: top;\n",
       "    }\n",
       "\n",
       "    .dataframe thead th {\n",
       "        text-align: right;\n",
       "    }\n",
       "</style>\n",
       "<table border=\"1\" class=\"dataframe\">\n",
       "  <thead>\n",
       "    <tr style=\"text-align: right;\">\n",
       "      <th></th>\n",
       "      <th>SITUACAO</th>\n",
       "      <th>DESPESAS</th>\n",
       "    </tr>\n",
       "  </thead>\n",
       "  <tbody>\n",
       "    <tr>\n",
       "      <th>count</th>\n",
       "      <td>47.000000</td>\n",
       "      <td>47.000000</td>\n",
       "    </tr>\n",
       "    <tr>\n",
       "      <th>mean</th>\n",
       "      <td>0.510638</td>\n",
       "      <td>1085.744681</td>\n",
       "    </tr>\n",
       "    <tr>\n",
       "      <th>std</th>\n",
       "      <td>0.505291</td>\n",
       "      <td>870.968338</td>\n",
       "    </tr>\n",
       "    <tr>\n",
       "      <th>min</th>\n",
       "      <td>0.000000</td>\n",
       "      <td>10.000000</td>\n",
       "    </tr>\n",
       "    <tr>\n",
       "      <th>25%</th>\n",
       "      <td>0.000000</td>\n",
       "      <td>300.000000</td>\n",
       "    </tr>\n",
       "    <tr>\n",
       "      <th>50%</th>\n",
       "      <td>1.000000</td>\n",
       "      <td>800.000000</td>\n",
       "    </tr>\n",
       "    <tr>\n",
       "      <th>75%</th>\n",
       "      <td>1.000000</td>\n",
       "      <td>1700.000000</td>\n",
       "    </tr>\n",
       "    <tr>\n",
       "      <th>max</th>\n",
       "      <td>1.000000</td>\n",
       "      <td>3300.000000</td>\n",
       "    </tr>\n",
       "  </tbody>\n",
       "</table>\n",
       "</div>"
      ],
      "text/plain": [
       "        SITUACAO     DESPESAS\n",
       "count  47.000000    47.000000\n",
       "mean    0.510638  1085.744681\n",
       "std     0.505291   870.968338\n",
       "min     0.000000    10.000000\n",
       "25%     0.000000   300.000000\n",
       "50%     1.000000   800.000000\n",
       "75%     1.000000  1700.000000\n",
       "max     1.000000  3300.000000"
      ]
     },
     "execution_count": 5,
     "metadata": {},
     "output_type": "execute_result"
    },
    {
     "data": {
      "image/png": "[encoded data removed]",
      "text/plain": [
       "<Figure size 640x480 with 1 Axes>"
      ]
     },
     "metadata": {},
     "output_type": "display_data"
    }
   ],
   "source": [
    "# Carregamento da base de dados, visualização de gráfico com os pontos e visualização de estatísticas\n",
    "base = pd.read_csv('Eleicao.csv', sep = ';')\n",
    "plt.scatter(base.DESPESAS, base.SITUACAO)\n",
    "base.describe()"
   ]
  },
  {
   "cell_type": "code",
   "execution_count": 6,
   "metadata": {},
   "outputs": [
    {
     "data": {
      "text/plain": [
       "array([[1.        , 0.81218717],\n",
       "       [0.81218717, 1.        ]])"
      ]
     },
     "execution_count": 6,
     "metadata": {},
     "output_type": "execute_result"
    }
   ],
   "source": [
    "# Visualização do coeficiente de correlação entre o atributo \"despesas\" e \"situação\"\n",
    "np.corrcoef(base.DESPESAS, base.SITUACAO)"
   ]
  },
  {
   "cell_type": "code",
   "execution_count": 7,
   "metadata": {},
   "outputs": [
    {
     "data": {
      "text/plain": [
       "array([[  10],\n",
       "       [ 100],\n",
       "       [1600],\n",
       "       [1500],\n",
       "       [3300],\n",
       "       [ 200],\n",
       "       [1800],\n",
       "       [1700],\n",
       "       [ 300],\n",
       "       [1800],\n",
       "       [ 100],\n",
       "       [ 500],\n",
       "       [3000],\n",
       "       [  20],\n",
       "       [ 200],\n",
       "       [ 700],\n",
       "       [1600],\n",
       "       [1900],\n",
       "       [ 100],\n",
       "       [ 400],\n",
       "       [2700],\n",
       "       [ 200],\n",
       "       [ 300],\n",
       "       [ 500],\n",
       "       [2500],\n",
       "       [1400],\n",
       "       [ 700],\n",
       "       [1700],\n",
       "       [1400],\n",
       "       [1600],\n",
       "       [ 400],\n",
       "       [ 200],\n",
       "       [1600],\n",
       "       [2200],\n",
       "       [1900],\n",
       "       [ 200],\n",
       "       [1200],\n",
       "       [1700],\n",
       "       [1500],\n",
       "       [2100],\n",
       "       [ 400],\n",
       "       [ 800],\n",
       "       [ 400],\n",
       "       [ 500],\n",
       "       [1000],\n",
       "       [ 300],\n",
       "       [ 800]], dtype=int64)"
      ]
     },
     "execution_count": 7,
     "metadata": {},
     "output_type": "execute_result"
    }
   ],
   "source": [
    "# Criação das variávies X e y (variável independente e variável dependente)\n",
    "# Transformação de X para o formato de matriz adicionando um novo eixo (newaxis)\n",
    "X = base.iloc[:, 2].values\n",
    "X = X[:, np.newaxis]\n",
    "y = base.iloc[:, 1].values\n",
    "X"
   ]
  },
  {
   "cell_type": "code",
   "execution_count": 20,
   "metadata": {},
   "outputs": [
    {
     "data": {
      "text/plain": [
       "array([[0.00498364]])"
      ]
     },
     "execution_count": 20,
     "metadata": {},
     "output_type": "execute_result"
    }
   ],
   "source": [
    "# Criação do modelo, treinamento e visualização dos coeficientes\n",
    "modelo = LogisticRegression()\n",
    "modelo.fit(X, y)\n",
    "modelo.coef_\n",
    "#modelo.intercept_"
   ]
  },
  {
   "cell_type": "code",
   "execution_count": 19,
   "metadata": {},
   "outputs": [
    {
     "data": {
      "text/plain": [
       "[<matplotlib.lines.Line2D at 0x2224d7d1fd0>]"
      ]
     },
     "execution_count": 19,
     "metadata": {},
     "output_type": "execute_result"
    },
    {
     "data": {
      "image/png": "[encoded data removed]",
      "text/plain": [
       "<Figure size 640x480 with 1 Axes>"
      ]
     },
     "metadata": {},
     "output_type": "display_data"
    }
   ],
   "source": [
    "plt.scatter(X, y)\n",
    "# Geração de novos dados para gerar a função sigmoide\n",
    "X_teste = np.linspace(10, 3000, 100)\n",
    "# Implementação da função sigmoide\n",
    "def model(x):\n",
    "    return 1 / (1 + np.exp(-x))\n",
    "# Geração de previsões (variável r) e visualização dos resultados\n",
    "r = model(X_teste * modelo.coef_ + modelo.intercept_).ravel()\n",
    "plt.plot(X_teste, r, color = 'red')"
   ]
  },
  {
   "cell_type": "code",
   "execution_count": 17,
   "metadata": {},
   "outputs": [],
   "source": [
    "# Carregamento da base de dados com os novos candidatos\n",
    "base_previsoes = pd.read_csv('NovosCandidatos.csv', sep = ';')\n"
   ]
  },
  {
   "cell_type": "code",
   "execution_count": 28,
   "metadata": {},
   "outputs": [
    {
     "name": "stdout",
     "output_type": "stream",
     "text": [
      "  CANDIDATO  DESPESAS  PREVISAO\n",
      "0         A         0     False\n",
      "1         B        10     False\n",
      "2         C       200     False\n",
      "3         D       500     False\n",
      "4         E       900     False\n",
      "5         F      1500     False\n",
      "6         G      3000      True\n"
     ]
    }
   ],
   "source": [
    "# Mudança dos dados para formato de matriz\n",
    "despesas = base_previsoes.iloc[:, 1].values\n",
    "despesas = despesas.reshape(-1, 1)\n",
    "# Previsões usando ponto de corte manual\n",
    "ponto_de_corte_manual= 0.95\n",
    "previsoes_teste = modelo.predict_proba(despesas)[:, 1] >= (ponto_de_corte_manual)\n",
    "base_previsoes['PREVISAO'] = previsoes_teste\n",
    "print (base_previsoes)"
   ]
  },
  {
   "cell_type": "code",
   "execution_count": 32,
   "metadata": {},
   "outputs": [
    {
     "data": {
      "text/plain": [
       "array([0, 0, 0, 0, 0, 1, 1], dtype=int64)"
      ]
     },
     "execution_count": 32,
     "metadata": {},
     "output_type": "execute_result"
    }
   ],
   "source": [
    "previsoes_teste"
   ]
  },
  {
   "cell_type": "code",
   "execution_count": 33,
   "metadata": {},
   "outputs": [
    {
     "data": {
      "text/plain": [
       "array([['A', 0, 0],\n",
       "       ['B', 10, 0],\n",
       "       ['C', 200, 0],\n",
       "       ['D', 500, 0],\n",
       "       ['E', 900, 0],\n",
       "       ['F', 1500, 1],\n",
       "       ['G', 3000, 1]], dtype=object)"
      ]
     },
     "execution_count": 33,
     "metadata": {},
     "output_type": "execute_result"
    }
   ],
   "source": [
    "base_previsoes"
   ]
  },
  {
   "cell_type": "code",
   "execution_count": 44,
   "metadata": {},
   "outputs": [
    {
     "data": {
      "text/html": [
       "<div>\n",
       "<style scoped>\n",
       "    .dataframe tbody tr th:only-of-type {\n",
       "        vertical-align: middle;\n",
       "    }\n",
       "\n",
       "    .dataframe tbody tr th {\n",
       "        vertical-align: top;\n",
       "    }\n",
       "\n",
       "    .dataframe thead th {\n",
       "        text-align: right;\n",
       "    }\n",
       "</style>\n",
       "<table border=\"1\" class=\"dataframe\">\n",
       "  <thead>\n",
       "    <tr style=\"text-align: right;\">\n",
       "      <th></th>\n",
       "      <th>CANDIDATO</th>\n",
       "      <th>DESPESAS</th>\n",
       "      <th>PREVISAO</th>\n",
       "    </tr>\n",
       "  </thead>\n",
       "  <tbody>\n",
       "    <tr>\n",
       "      <th>0</th>\n",
       "      <td>A</td>\n",
       "      <td>0</td>\n",
       "      <td>False</td>\n",
       "    </tr>\n",
       "    <tr>\n",
       "      <th>1</th>\n",
       "      <td>B</td>\n",
       "      <td>10</td>\n",
       "      <td>False</td>\n",
       "    </tr>\n",
       "    <tr>\n",
       "      <th>2</th>\n",
       "      <td>C</td>\n",
       "      <td>200</td>\n",
       "      <td>False</td>\n",
       "    </tr>\n",
       "    <tr>\n",
       "      <th>3</th>\n",
       "      <td>D</td>\n",
       "      <td>500</td>\n",
       "      <td>False</td>\n",
       "    </tr>\n",
       "    <tr>\n",
       "      <th>4</th>\n",
       "      <td>E</td>\n",
       "      <td>900</td>\n",
       "      <td>False</td>\n",
       "    </tr>\n",
       "    <tr>\n",
       "      <th>5</th>\n",
       "      <td>F</td>\n",
       "      <td>1500</td>\n",
       "      <td>False</td>\n",
       "    </tr>\n",
       "    <tr>\n",
       "      <th>6</th>\n",
       "      <td>G</td>\n",
       "      <td>3000</td>\n",
       "      <td>True</td>\n",
       "    </tr>\n",
       "  </tbody>\n",
       "</table>\n",
       "</div>"
      ],
      "text/plain": [
       "  CANDIDATO  DESPESAS  PREVISAO\n",
       "0         A         0     False\n",
       "1         B        10     False\n",
       "2         C       200     False\n",
       "3         D       500     False\n",
       "4         E       900     False\n",
       "5         F      1500     False\n",
       "6         G      3000      True"
      ]
     },
     "execution_count": 44,
     "metadata": {},
     "output_type": "execute_result"
    }
   ],
   "source": [
    "base_previsoes"
   ]
  },
  {
   "cell_type": "code",
   "execution_count": 45,
   "metadata": {},
   "outputs": [
    {
     "data": {
      "image/png": "[encoded data removed]",
      "text/plain": [
       "<Figure size 640x480 with 1 Axes>"
      ]
     },
     "metadata": {},
     "output_type": "display_data"
    }
   ],
   "source": [
    "categorias = base_previsoes['CANDIDATO']\n",
    "previsoes = base_previsoes['PREVISAO']\n",
    "\n",
    "plt.bar(categorias, previsoes, color=['blue', 'red'])\n",
    "\n",
    "plt.xlabel('Categorias')\n",
    "plt.ylabel('Previsões')\n",
    "plt.title('Comparação das Previsões por Categoria')\n",
    "plt.xticks(rotation=45)  # Rotação para melhor legibilidade das categorias\n",
    "\n",
    "plt.show()"
   ]
  },
  {
   "cell_type": "code",
   "execution_count": 46,
   "metadata": {},
   "outputs": [
    {
     "name": "stdout",
     "output_type": "stream",
     "text": [
      "            CANDIDATO  SITUACAO  DESPESAS PREVISAO\n",
      "0       George Turner       0.0        10      NaN\n",
      "1      Victor Johnson       0.0       100      NaN\n",
      "2         Jerry Perry       1.0      1600      NaN\n",
      "3        Shirley Cook       1.0      1500      NaN\n",
      "4      Carolyn Bailey       1.0      3300      NaN\n",
      "5       Susan Sanders       0.0       200      NaN\n",
      "6      Anthony Harris       1.0      1800      NaN\n",
      "7   Philip Richardson       1.0      1700      NaN\n",
      "8     Eugene Phillips       0.0       300      NaN\n",
      "9      Mildred Morris       1.0      1800      NaN\n",
      "10      Richard Jones       0.0       100      NaN\n",
      "11     Joan Hernandez       0.0       500      NaN\n",
      "12  Lawrence Mitchell       1.0      3000      NaN\n",
      "13       Annie Brooks       0.0        20      NaN\n",
      "14    Stephen Simmons       0.0       200      NaN\n",
      "15     Samuel Russell       1.0       700      NaN\n",
      "16        Jason Brown       1.0      1600      NaN\n",
      "17     Bobby Gonzalez       1.0      1900      NaN\n",
      "18     Steven Coleman       0.0       100      NaN\n",
      "19   Benjamin Ramirez       0.0       400      NaN\n",
      "20      Pamela Bryant       1.0      2700      NaN\n",
      "21        Billy Perez       0.0       200      NaN\n",
      "22       Julia Watson       0.0       300      NaN\n",
      "23       Laura Butler       0.0       500      NaN\n",
      "24      Gary Peterson       1.0      2500      NaN\n",
      "25         Carl Lewis       1.0      1400      NaN\n",
      "26     Virginia Scott       0.0       700      NaN\n",
      "27     Eric Alexander       1.0      1700      NaN\n",
      "28     Jane Rodriguez       1.0      1400      NaN\n",
      "29        Terry Smith       1.0      1600      NaN\n",
      "30    Donald Campbell       0.0       400      NaN\n",
      "31        Helen Young       0.0       200      NaN\n",
      "32    Dorothy Bennett       1.0      1600      NaN\n",
      "33    Stephanie Baker       1.0      2200      NaN\n",
      "34        Joseph Gray       1.0      1900      NaN\n",
      "35       Beverly King       0.0       200      NaN\n",
      "36       Lori Collins       0.0      1200      NaN\n",
      "37        Diana Moore       1.0      1700      NaN\n",
      "38        Diane Davis       1.0      1500      NaN\n",
      "39       Timothy Reed       1.0      2100      NaN\n",
      "40  Andrea Washington       0.0       400      NaN\n",
      "41    Nicholas Garcia       0.0       800      NaN\n",
      "42      Barbara White       0.0       400      NaN\n",
      "43          Mark Hall       1.0       500      NaN\n",
      "44    Katherine Price       0.0      1000      NaN\n",
      "45         Linda Long       0.0       300      NaN\n",
      "46     Harry Anderson       1.0       800      NaN\n",
      "47                  A       NaN         0    False\n",
      "48                  B       NaN        10    False\n",
      "49                  C       NaN       200    False\n",
      "50                  D       NaN       500    False\n",
      "51                  E       NaN       900    False\n",
      "52                  F       NaN      1500    False\n",
      "53                  G       NaN      3000     True\n"
     ]
    },
    {
     "name": "stderr",
     "output_type": "stream",
     "text": [
      "C:\\Users\\Londres31\\AppData\\Local\\Temp\\ipykernel_9584\\1036437650.py:1: FutureWarning: The frame.append method is deprecated and will be removed from pandas in a future version. Use pandas.concat instead.\n",
      "  base= base.append(base_previsoes, ignore_index=True)\n"
     ]
    }
   ],
   "source": [
    "base= base.append(base_previsoes, ignore_index=True)\n",
    "print(base)"
   ]
  },
  {
   "cell_type": "code",
   "execution_count": 56,
   "metadata": {},
   "outputs": [
    {
     "name": "stdout",
     "output_type": "stream",
     "text": [
      "            CANDIDATO  SITUACAO  DESPESAS PREVISAO\n",
      "0       George Turner       0.0        10      NaN\n",
      "1      Victor Johnson       0.0       100      NaN\n",
      "2         Jerry Perry       1.0      1600      NaN\n",
      "3        Shirley Cook       1.0      1500      NaN\n",
      "4      Carolyn Bailey       1.0      3300      NaN\n",
      "5       Susan Sanders       0.0       200      NaN\n",
      "6      Anthony Harris       1.0      1800      NaN\n",
      "7   Philip Richardson       1.0      1700      NaN\n",
      "8     Eugene Phillips       0.0       300      NaN\n",
      "9      Mildred Morris       1.0      1800      NaN\n",
      "10      Richard Jones       0.0       100      NaN\n",
      "11     Joan Hernandez       0.0       500      NaN\n",
      "12  Lawrence Mitchell       1.0      3000      NaN\n",
      "13       Annie Brooks       0.0        20      NaN\n",
      "14    Stephen Simmons       0.0       200      NaN\n",
      "15     Samuel Russell       1.0       700      NaN\n",
      "16        Jason Brown       1.0      1600      NaN\n",
      "17     Bobby Gonzalez       1.0      1900      NaN\n",
      "18     Steven Coleman       0.0       100      NaN\n",
      "19   Benjamin Ramirez       0.0       400      NaN\n",
      "20      Pamela Bryant       1.0      2700      NaN\n",
      "21        Billy Perez       0.0       200      NaN\n",
      "22       Julia Watson       0.0       300      NaN\n",
      "23       Laura Butler       0.0       500      NaN\n",
      "24      Gary Peterson       1.0      2500      NaN\n",
      "25         Carl Lewis       1.0      1400      NaN\n",
      "26     Virginia Scott       0.0       700      NaN\n",
      "27     Eric Alexander       1.0      1700      NaN\n",
      "28     Jane Rodriguez       1.0      1400      NaN\n",
      "29        Terry Smith       1.0      1600      NaN\n",
      "30    Donald Campbell       0.0       400      NaN\n",
      "31        Helen Young       0.0       200      NaN\n",
      "32    Dorothy Bennett       1.0      1600      NaN\n",
      "33    Stephanie Baker       1.0      2200      NaN\n",
      "34        Joseph Gray       1.0      1900      NaN\n",
      "35       Beverly King       0.0       200      NaN\n",
      "36       Lori Collins       0.0      1200      NaN\n",
      "37        Diana Moore       1.0      1700      NaN\n",
      "38        Diane Davis       1.0      1500      NaN\n",
      "39       Timothy Reed       1.0      2100      NaN\n",
      "40  Andrea Washington       0.0       400      NaN\n",
      "41    Nicholas Garcia       0.0       800      NaN\n",
      "42      Barbara White       0.0       400      NaN\n",
      "43          Mark Hall       1.0       500      NaN\n",
      "44    Katherine Price       0.0      1000      NaN\n",
      "45         Linda Long       0.0       300      NaN\n",
      "46     Harry Anderson       1.0       800      NaN\n",
      "47                  A       NaN         0    False\n",
      "48                  B       NaN        10    False\n",
      "49                  C       NaN       200    False\n",
      "50                  D       NaN       500    False\n",
      "51                  E       NaN       900    False\n",
      "52                  F       NaN      1500    False\n",
      "53                  G       NaN      3000     True\n"
     ]
    }
   ],
   "source": [
    "linhas_para_atualizar= base.index [47:54]\n",
    "valores_atualizados= base_previsoes['PREVISAO'].astype(float)\n",
    "base.loc[linhas_para_atualizar, 'SITUACAO']= valores_atualizados\n",
    "\n",
    "print(base)"
   ]
  },
  {
   "cell_type": "code",
   "execution_count": 57,
   "metadata": {},
   "outputs": [
    {
     "name": "stdout",
     "output_type": "stream",
     "text": [
      "            CANDIDATO  SITUACAO  DESPESAS PREVISAO\n",
      "0       George Turner       0.0        10      NaN\n",
      "1      Victor Johnson       0.0       100      NaN\n",
      "2         Jerry Perry       1.0      1600      NaN\n",
      "3        Shirley Cook       1.0      1500      NaN\n",
      "4      Carolyn Bailey       1.0      3300      NaN\n",
      "5       Susan Sanders       0.0       200      NaN\n",
      "6      Anthony Harris       1.0      1800      NaN\n",
      "7   Philip Richardson       1.0      1700      NaN\n",
      "8     Eugene Phillips       0.0       300      NaN\n",
      "9      Mildred Morris       1.0      1800      NaN\n",
      "10      Richard Jones       0.0       100      NaN\n",
      "11     Joan Hernandez       0.0       500      NaN\n",
      "12  Lawrence Mitchell       1.0      3000      NaN\n",
      "13       Annie Brooks       0.0        20      NaN\n",
      "14    Stephen Simmons       0.0       200      NaN\n",
      "15     Samuel Russell       1.0       700      NaN\n",
      "16        Jason Brown       1.0      1600      NaN\n",
      "17     Bobby Gonzalez       1.0      1900      NaN\n",
      "18     Steven Coleman       0.0       100      NaN\n",
      "19   Benjamin Ramirez       0.0       400      NaN\n",
      "20      Pamela Bryant       1.0      2700      NaN\n",
      "21        Billy Perez       0.0       200      NaN\n",
      "22       Julia Watson       0.0       300      NaN\n",
      "23       Laura Butler       0.0       500      NaN\n",
      "24      Gary Peterson       1.0      2500      NaN\n",
      "25         Carl Lewis       1.0      1400      NaN\n",
      "26     Virginia Scott       0.0       700      NaN\n",
      "27     Eric Alexander       1.0      1700      NaN\n",
      "28     Jane Rodriguez       1.0      1400      NaN\n",
      "29        Terry Smith       1.0      1600      NaN\n",
      "30    Donald Campbell       0.0       400      NaN\n",
      "31        Helen Young       0.0       200      NaN\n",
      "32    Dorothy Bennett       1.0      1600      NaN\n",
      "33    Stephanie Baker       1.0      2200      NaN\n",
      "34        Joseph Gray       1.0      1900      NaN\n",
      "35       Beverly King       0.0       200      NaN\n",
      "36       Lori Collins       0.0      1200      NaN\n",
      "37        Diana Moore       1.0      1700      NaN\n",
      "38        Diane Davis       1.0      1500      NaN\n",
      "39       Timothy Reed       1.0      2100      NaN\n",
      "40  Andrea Washington       0.0       400      NaN\n",
      "41    Nicholas Garcia       0.0       800      NaN\n",
      "42      Barbara White       0.0       400      NaN\n",
      "43          Mark Hall       1.0       500      NaN\n",
      "44    Katherine Price       0.0      1000      NaN\n",
      "45         Linda Long       0.0       300      NaN\n",
      "46     Harry Anderson       1.0       800      NaN\n",
      "47                  A       0.0         0    False\n",
      "48                  B       0.0        10    False\n",
      "49                  C       0.0       200    False\n",
      "50                  D       0.0       500    False\n",
      "51                  E       0.0       900    False\n",
      "52                  F       0.0      1500    False\n",
      "53                  G       1.0      3000     True\n"
     ]
    }
   ],
   "source": [
    "valores_atualizados = [0.0, 0.0, 0.0, 0.0, 0.0, 0.0, 1.0]\n",
    "base.loc[47:53, 'SITUACAO'] = valores_atualizados\n",
    "\n",
    "print(base)"
   ]
  },
  {
   "cell_type": "code",
   "execution_count": 58,
   "metadata": {},
   "outputs": [
    {
     "name": "stdout",
     "output_type": "stream",
     "text": [
      "            CANDIDATO  SITUACAO  DESPESAS PREVISAO\n",
      "0       George Turner       0.0        10      NaN\n",
      "1      Victor Johnson       0.0       100      NaN\n",
      "2         Jerry Perry       1.0      1600      NaN\n",
      "3        Shirley Cook       1.0      1500      NaN\n",
      "4      Carolyn Bailey       1.0      3300      NaN\n",
      "5       Susan Sanders       0.0       200      NaN\n",
      "6      Anthony Harris       1.0      1800      NaN\n",
      "7   Philip Richardson       1.0      1700      NaN\n",
      "8     Eugene Phillips       0.0       300      NaN\n",
      "9      Mildred Morris       1.0      1800      NaN\n",
      "10      Richard Jones       0.0       100      NaN\n",
      "11     Joan Hernandez       0.0       500      NaN\n",
      "12  Lawrence Mitchell       1.0      3000      NaN\n",
      "13       Annie Brooks       0.0        20      NaN\n",
      "14    Stephen Simmons       0.0       200      NaN\n",
      "15     Samuel Russell       1.0       700      NaN\n",
      "16        Jason Brown       1.0      1600      NaN\n",
      "17     Bobby Gonzalez       1.0      1900      NaN\n",
      "18     Steven Coleman       0.0       100      NaN\n",
      "19   Benjamin Ramirez       0.0       400      NaN\n",
      "20      Pamela Bryant       1.0      2700      NaN\n",
      "21        Billy Perez       0.0       200      NaN\n",
      "22       Julia Watson       0.0       300      NaN\n",
      "23       Laura Butler       0.0       500      NaN\n",
      "24      Gary Peterson       1.0      2500      NaN\n",
      "25         Carl Lewis       1.0      1400      NaN\n",
      "26     Virginia Scott       0.0       700      NaN\n",
      "27     Eric Alexander       1.0      1700      NaN\n",
      "28     Jane Rodriguez       1.0      1400      NaN\n",
      "29        Terry Smith       1.0      1600      NaN\n",
      "30    Donald Campbell       0.0       400      NaN\n",
      "31        Helen Young       0.0       200      NaN\n",
      "32    Dorothy Bennett       1.0      1600      NaN\n",
      "33    Stephanie Baker       1.0      2200      NaN\n",
      "34        Joseph Gray       1.0      1900      NaN\n",
      "35       Beverly King       0.0       200      NaN\n",
      "36       Lori Collins       0.0      1200      NaN\n",
      "37        Diana Moore       1.0      1700      NaN\n",
      "38        Diane Davis       1.0      1500      NaN\n",
      "39       Timothy Reed       1.0      2100      NaN\n",
      "40  Andrea Washington       0.0       400      NaN\n",
      "41    Nicholas Garcia       0.0       800      NaN\n",
      "42      Barbara White       0.0       400      NaN\n",
      "43          Mark Hall       1.0       500      NaN\n",
      "44    Katherine Price       0.0      1000      NaN\n",
      "45         Linda Long       0.0       300      NaN\n",
      "46     Harry Anderson       1.0       800      NaN\n",
      "47                  A       0.0         0    False\n",
      "48                  B       0.0        10    False\n",
      "49                  C       0.0       200    False\n",
      "50                  D       0.0       500    False\n",
      "51                  E       0.0       900    False\n",
      "52                  F       0.0      1500    False\n",
      "53                  G       1.0      3000     True\n"
     ]
    }
   ],
   "source": [
    "# Definir os valores de despesas e previsões correspondentes às linhas 47 a 53\n",
    "despesas_valores = base.loc[47:53, 'DESPESAS']\n",
    "previsoes_valores = [0.0, 0.0, 0.0, 0.0, 0.0, 0.0, 1.0]\n",
    "\n",
    "# Atualizar os valores da coluna 'SITUACAO' com base nas despesas e previsões\n",
    "base.loc[47:53, 'SITUACAO'] = np.where(despesas_valores <= 1500, previsoes_valores, base.loc[47:53, 'SITUACAO'])\n",
    "\n",
    "print(base)"
   ]
  },
  {
   "cell_type": "code",
   "execution_count": 63,
   "metadata": {},
   "outputs": [
    {
     "data": {
      "image/png": "[encoded data removed]",
      "text/plain": [
       "<Figure size 800x600 with 1 Axes>"
      ]
     },
     "metadata": {},
     "output_type": "display_data"
    }
   ],
   "source": [
    "plt.figure(figsize=(8, 6))\n",
    "plt.scatter(base['DESPESAS'], base['SITUACAO'], alpha=0.5)\n",
    "\n",
    "plt.xlabel('Despesas')\n",
    "plt.ylabel('Situação')\n",
    "plt.title('Correlação entre Despesas e Situação')\n",
    "\n",
    "plt.show()"
   ]
  },
  {
   "cell_type": "code",
   "execution_count": 66,
   "metadata": {},
   "outputs": [
    {
     "data": {
      "image/png": "[encoded data removed]",
      "text/plain": [
       "<Figure size 800x600 with 1 Axes>"
      ]
     },
     "metadata": {},
     "output_type": "display_data"
    }
   ],
   "source": [
    "\n",
    "# Criar um gráfico de boxplot\n",
    "plt.figure(figsize=(8, 6))\n",
    "plt.boxplot([base[base['SITUACAO'] == 0]['DESPESAS'], base[base['SITUACAO'] == 1]['DESPESAS']], labels=['Situação 0', 'Situação 1'])\n",
    "\n",
    "plt.xlabel('Situação')\n",
    "plt.ylabel('Despesas')\n",
    "plt.title('Distribuição de Despesas por Situação')\n",
    "\n",
    "plt.show()\n"
   ]
  },
  {
   "cell_type": "code",
   "execution_count": null,
   "metadata": {},
   "outputs": [],
   "source": []
  },
  {
   "cell_type": "code",
   "execution_count": null,
   "metadata": {},
   "outputs": [],
   "source": []
  },
  {
   "cell_type": "code",
   "execution_count": null,
   "metadata": {},
   "outputs": [],
   "source": []
  }
 ],
 "metadata": {
  "jupytext": {
   "cell_metadata_filter": "-all",
   "main_language": "python",
   "notebook_metadata_filter": "-all"
  },
  "kernelspec": {
   "display_name": "Python 3 (ipykernel)",
   "language": "python",
   "name": "python3"
  },
  "language_info": {
   "codemirror_mode": {
    "name": "ipython",
    "version": 3
   },
   "file_extension": ".py",
   "mimetype": "text/x-python",
   "name": "python",
   "nbconvert_exporter": "python",
   "pygments_lexer": "ipython3",
   "version": "3.9.13"
  }
 },
 "nbformat": 4,
 "nbformat_minor": 4
}
